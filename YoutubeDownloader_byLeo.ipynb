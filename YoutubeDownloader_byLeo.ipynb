{
  "cells": [
    {
      "cell_type": "markdown",
      "source": [
        "**DESCARGAR CANCIONES ESPECÍFICAS DIRECTAMENTE AL EQUIPO**"
      ],
      "metadata": {
        "id": "N5EQFXquHukk"
      }
    },
    {
      "cell_type": "code",
      "execution_count": null,
      "metadata": {
        "colab": {
          "base_uri": "https://localhost:8080/",
          "height": 217
        },
        "id": "fTKudBfX4MfI",
        "outputId": "bfcfc7d8-59da-4483-b0df-3bc65b7cac56"
      },
      "outputs": [
        {
          "output_type": "stream",
          "name": "stdout",
          "text": [
            "Requirement already satisfied: yt-dlp in /usr/local/lib/python3.11/dist-packages (2025.6.9)\n",
            "Requirement already satisfied: pydub in /usr/local/lib/python3.11/dist-packages (0.25.1)\n",
            "Reading package lists... Done\n",
            "Building dependency tree... Done\n",
            "Reading state information... Done\n",
            "ffmpeg is already the newest version (7:4.4.2-0ubuntu0.22.04.1).\n",
            "0 upgraded, 0 newly installed, 0 to remove and 35 not upgraded.\n",
            "Descargando https://youtu.be/LVce-8YhEGs?list=RD9sHyVWQykVw...\n",
            "Descarga y conversión completada.\n"
          ]
        },
        {
          "output_type": "display_data",
          "data": {
            "text/plain": [
              "<IPython.core.display.Javascript object>"
            ],
            "application/javascript": [
              "\n",
              "    async function download(id, filename, size) {\n",
              "      if (!google.colab.kernel.accessAllowed) {\n",
              "        return;\n",
              "      }\n",
              "      const div = document.createElement('div');\n",
              "      const label = document.createElement('label');\n",
              "      label.textContent = `Downloading \"${filename}\": `;\n",
              "      div.appendChild(label);\n",
              "      const progress = document.createElement('progress');\n",
              "      progress.max = size;\n",
              "      div.appendChild(progress);\n",
              "      document.body.appendChild(div);\n",
              "\n",
              "      const buffers = [];\n",
              "      let downloaded = 0;\n",
              "\n",
              "      const channel = await google.colab.kernel.comms.open(id);\n",
              "      // Send a message to notify the kernel that we're ready.\n",
              "      channel.send({})\n",
              "\n",
              "      for await (const message of channel.messages) {\n",
              "        // Send a message to notify the kernel that we're ready.\n",
              "        channel.send({})\n",
              "        if (message.buffers) {\n",
              "          for (const buffer of message.buffers) {\n",
              "            buffers.push(buffer);\n",
              "            downloaded += buffer.byteLength;\n",
              "            progress.value = downloaded;\n",
              "          }\n",
              "        }\n",
              "      }\n",
              "      const blob = new Blob(buffers, {type: 'application/binary'});\n",
              "      const a = document.createElement('a');\n",
              "      a.href = window.URL.createObjectURL(blob);\n",
              "      a.download = filename;\n",
              "      div.appendChild(a);\n",
              "      a.click();\n",
              "      div.remove();\n",
              "    }\n",
              "  "
            ]
          },
          "metadata": {}
        },
        {
          "output_type": "display_data",
          "data": {
            "text/plain": [
              "<IPython.core.display.Javascript object>"
            ],
            "application/javascript": [
              "download(\"download_fb1b1b73-5bce-4316-8d53-64d9074725fd\", \"Coraz\\u00f3n Serrano - No Eres \\u00danico - Recuerdos Del Coraz\\u00f3n Vol. 2.mp3\", 5779629)"
            ]
          },
          "metadata": {}
        },
        {
          "output_type": "stream",
          "name": "stdout",
          "text": [
            "Descargando https://youtu.be/Y2Vnjmb2gFs?list=RD9g5uDIg378o...\n",
            "Descarga y conversión completada.\n"
          ]
        },
        {
          "output_type": "display_data",
          "data": {
            "text/plain": [
              "<IPython.core.display.Javascript object>"
            ],
            "application/javascript": [
              "\n",
              "    async function download(id, filename, size) {\n",
              "      if (!google.colab.kernel.accessAllowed) {\n",
              "        return;\n",
              "      }\n",
              "      const div = document.createElement('div');\n",
              "      const label = document.createElement('label');\n",
              "      label.textContent = `Downloading \"${filename}\": `;\n",
              "      div.appendChild(label);\n",
              "      const progress = document.createElement('progress');\n",
              "      progress.max = size;\n",
              "      div.appendChild(progress);\n",
              "      document.body.appendChild(div);\n",
              "\n",
              "      const buffers = [];\n",
              "      let downloaded = 0;\n",
              "\n",
              "      const channel = await google.colab.kernel.comms.open(id);\n",
              "      // Send a message to notify the kernel that we're ready.\n",
              "      channel.send({})\n",
              "\n",
              "      for await (const message of channel.messages) {\n",
              "        // Send a message to notify the kernel that we're ready.\n",
              "        channel.send({})\n",
              "        if (message.buffers) {\n",
              "          for (const buffer of message.buffers) {\n",
              "            buffers.push(buffer);\n",
              "            downloaded += buffer.byteLength;\n",
              "            progress.value = downloaded;\n",
              "          }\n",
              "        }\n",
              "      }\n",
              "      const blob = new Blob(buffers, {type: 'application/binary'});\n",
              "      const a = document.createElement('a');\n",
              "      a.href = window.URL.createObjectURL(blob);\n",
              "      a.download = filename;\n",
              "      div.appendChild(a);\n",
              "      a.click();\n",
              "      div.remove();\n",
              "    }\n",
              "  "
            ]
          },
          "metadata": {}
        },
        {
          "output_type": "display_data",
          "data": {
            "text/plain": [
              "<IPython.core.display.Javascript object>"
            ],
            "application/javascript": [
              "download(\"download_439fc004-048e-414b-b97c-44b1afa8acf5\", \"PARTIDO EN DOS - LA UNICA TROPICAL 2024.mp3\", 5266989)"
            ]
          },
          "metadata": {}
        }
      ],
      "source": [
        "# INSTALAR DEPENDENCIAS\n",
        "!pip install yt-dlp pydub\n",
        "\n",
        "# INSTALAR FFMPEG\n",
        "!apt-get install ffmpeg -y\n",
        "\n",
        "# IMPORTAR LIBRERÍAS\n",
        "import os\n",
        "from yt_dlp import YoutubeDL\n",
        "from pydub import AudioSegment\n",
        "from google.colab import files\n",
        "\n",
        "# CONFIGURAR FFMPEG\n",
        "AudioSegment.converter = '/usr/bin/ffmpeg'\n",
        "AudioSegment.ffprobe = '/usr/bin/ffprobe'\n",
        "\n",
        "# FUNCIÓN PARA DESCARGAR AUDIOS\n",
        "def download_youtube_audio_to_mp3(urls, download_folder):\n",
        "    if not os.path.exists(download_folder):\n",
        "        os.makedirs(download_folder)\n",
        "\n",
        "    ydl_opts = {\n",
        "        'format': 'bestaudio/best',\n",
        "        'postprocessors': [{\n",
        "            'key': 'FFmpegExtractAudio',\n",
        "            'preferredcodec': 'mp3',\n",
        "            'preferredquality': '192',\n",
        "        }],\n",
        "        'outtmpl': os.path.join(download_folder, '%(title)s.%(ext)s'),\n",
        "        'quiet': True,\n",
        "        'noplaylist': True  # ⛔️ Esta línea evita que se descargue toda la playlist\n",
        "    }\n",
        "\n",
        "    with YoutubeDL(ydl_opts) as ydl:\n",
        "        for url in urls:\n",
        "            try:\n",
        "                print(f\"Descargando {url}...\")\n",
        "                ydl.download([url])\n",
        "                print(\"Descarga y conversión completada.\")\n",
        "\n",
        "                # Obtener el nombre del archivo convertido\n",
        "                info_dict = ydl.extract_info(url, download=False)\n",
        "                filename = ydl.prepare_filename(info_dict).replace('.webm', '.mp3').replace('.m4a', '.mp3')\n",
        "\n",
        "                # Descargar el archivo al equipo local\n",
        "                files.download(filename)\n",
        "            except Exception as e:\n",
        "                print(f\"Error descargando {url}: {e}\")\n",
        "\n",
        "# LISTA DE URLs A DESCARGAR\n",
        "urls_texto = \"\"\"\n",
        "https://youtu.be/LVce-8YhEGs?list=RD9sHyVWQykVw\n",
        "https://youtu.be/Y2Vnjmb2gFs?list=RD9g5uDIg378o\n",
        "\"\"\"\n",
        "\n",
        "# PROCESAR LAS URLs Y EJECUTAR LA FUNCIÓN\n",
        "urls = urls_texto.strip().split('\\n')\n",
        "download_folder = '/content/Descargas'\n",
        "download_youtube_audio_to_mp3(urls, download_folder)\n"
      ]
    },
    {
      "cell_type": "markdown",
      "source": [],
      "metadata": {
        "id": "qYap0jw6HpCA"
      }
    },
    {
      "cell_type": "markdown",
      "source": [
        "**DESCARGAR PLAYLIST COMPLETAS DIRECTAMENTE AL EQUIPO**"
      ],
      "metadata": {
        "id": "vAvTGWonH7FW"
      }
    },
    {
      "cell_type": "code",
      "source": [
        "# iNSTALAR DEPENDENCIAS\n",
        "!pip install yt-dlp pydub\n",
        "\n",
        "# INSTALAR FFMPEG\n",
        "!apt-get install ffmpeg\n",
        "\n",
        "# IMPORTAR LIBRERÍAS\n",
        "import os\n",
        "from yt_dlp import YoutubeDL\n",
        "from pydub import AudioSegment\n",
        "from google.colab import files\n",
        "\n",
        "# CONFIGURAR FFMPEG\n",
        "AudioSegment.converter = '/usr/bin/ffmpeg'\n",
        "AudioSegment.ffprobe = '/usr/bin/ffprobe'\n",
        "\n",
        "# FUNCIÓN PARA DESCARGAR AUDIOS\n",
        "def download_youtube_audio_to_mp3(urls, download_folder):\n",
        "    if not os.path.exists(download_folder):\n",
        "        os.makedirs(download_folder)\n",
        "\n",
        "    ydl_opts = {\n",
        "        'format': 'bestaudio/best',\n",
        "        'postprocessors': [{\n",
        "            'key': 'FFmpegExtractAudio',\n",
        "            'preferredcodec': 'mp3',\n",
        "            'preferredquality': '192',\n",
        "        }],\n",
        "        'outtmpl': os.path.join(download_folder, '%(title)s.%(ext)s'),\n",
        "        'quiet': True,\n",
        "    }\n",
        "\n",
        "    with YoutubeDL(ydl_opts) as ydl:\n",
        "        for url in urls:\n",
        "            try:\n",
        "                print(f\"Descargando {url}...\")\n",
        "                ydl.download([url])\n",
        "                print(\"Descarga y conversión completada.\")\n",
        "\n",
        "                # Obtén el nombre del archivo descargado\n",
        "                info_dict = ydl.extract_info(url, download=False)\n",
        "                filename = ydl.prepare_filename(info_dict).replace('.webm', '.mp3').replace('.m4a', '.mp3')\n",
        "\n",
        "                # Descargar el archivo MP3 a la computadora local\n",
        "                files.download(filename)\n",
        "            except Exception as e:\n",
        "                print(f\"Error descargando {url}: {e}\")\n",
        "\n",
        "# LISTA DE URLs A DESCARGAR\n",
        "urls_texto = \"\"\"\n",
        "https://youtu.be/LVce-8YhEGs?list=RD9sHyVWQykVw\n",
        "https://youtu.be/Y2Vnjmb2gFs?list=RD9g5uDIg378o\n",
        "\"\"\"\n",
        "\n",
        "# PROCESAR LAS URLs Y EJECUTAR LA FUNCIÓN\n",
        "urls = urls_texto.strip().split('\\n')\n",
        "download_folder = '/content/Descargas'\n",
        "download_youtube_audio_to_mp3(urls, download_folder)"
      ],
      "metadata": {
        "id": "dmj14kxBH3-_"
      },
      "execution_count": null,
      "outputs": []
    }
  ],
  "metadata": {
    "colab": {
      "provenance": [],
      "authorship_tag": "ABX9TyN9bqfAKM3wJ8JRHxB403aB"
    },
    "kernelspec": {
      "display_name": "Python 3",
      "name": "python3"
    },
    "language_info": {
      "name": "python"
    }
  },
  "nbformat": 4,
  "nbformat_minor": 0
}